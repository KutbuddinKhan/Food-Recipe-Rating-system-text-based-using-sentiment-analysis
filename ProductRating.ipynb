{
  "nbformat": 4,
  "nbformat_minor": 0,
  "metadata": {
    "colab": {
      "name": "ProductRating.ipynb",
      "provenance": [],
      "collapsed_sections": []
    },
    "kernelspec": {
      "name": "python3",
      "display_name": "Python 3"
    },
    "accelerator": "TPU"
  },
  "cells": [
    {
      "cell_type": "code",
      "metadata": {
        "id": "R_Hb8NiE24N7",
        "colab_type": "code",
        "colab": {}
      },
      "source": [
        "\n",
        "import numpy as np # linear algebra\n",
        "import pandas as pd # data processing, CSV file I/O (e.g. pd.read_csv)\n",
        "\n",
        "\n",
        "import os\n",
        "import bz2\n",
        "import re\n",
        "from tqdm import tqdm\n",
        "from sklearn.utils import shuffle\n",
        "from matplotlib import pyplot as plt\n",
        "from keras.preprocessing.text import Tokenizer\n",
        "from keras.preprocessing.sequence import pad_sequences\n",
        "from keras.models import Sequential\n",
        "from keras.layers import Embedding,LSTM,Dropout,Dense\n",
        "from keras.callbacks import EarlyStopping, ModelCheckpoint\n",
        "from nltk.corpus import stopwords\n",
        "from sklearn.model_selection import train_test_split\n",
        "from sklearn.preprocessing import LabelBinarizer\n",
        "# Any results you write to the current directory are saved as output."
      ],
      "execution_count": 0,
      "outputs": []
    },
    {
      "cell_type": "code",
      "metadata": {
        "id": "vG3dPmaX28ZW",
        "colab_type": "code",
        "colab": {}
      },
      "source": [
        "def reviewToY(review):\n",
        "    return [1,0] if review.split(' ')[0] == '__label__1' else [0,1] \n",
        "def reviewToX(review):\n",
        "    review = review.split(' ', 1)[1][:-1].lower()\n",
        "    review = re.sub('\\d','0',review)\n",
        "    if 'www.' in review or 'http:' in review or 'https:' in review or '.com' in review:\n",
        "        review = re.sub(r\"([^ ]+(?<=\\.[a-z]{3}))\", \"<url>\", review)\n",
        "    return review\n",
        "def splitReviewsLabels(lines):\n",
        "    reviews = []\n",
        "    labels = []\n",
        "    for review in tqdm(lines):\n",
        "        rev = reviewToX(review)\n",
        "        label = reviewToY(review)\n",
        "        reviews.append(rev[:512])\n",
        "        labels.append(label)\n",
        "    return reviews, labels"
      ],
      "execution_count": 0,
      "outputs": []
    },
    {
      "cell_type": "code",
      "metadata": {
        "id": "DVl3M1rH28ui",
        "colab_type": "code",
        "colab": {}
      },
      "source": [
        "train_file = bz2.BZ2File('/content/drive/My Drive//train/test.ft.txt.bz2')\n",
        "train_lines = train_file.readlines()\n",
        "train_lines = [x.decode('utf-8') for x in train_lines]\n",
        "# Load from the file\n",
        "reviews_train, y_train = splitReviewsLabels(train_lines)\n",
        "reviews_train, y_train = shuffle(reviews_train, y_train)\n",
        "y_train = np.array(y_train)\n",
        "print(y_train[1])\n"
      ],
      "execution_count": 0,
      "outputs": []
    },
    {
      "cell_type": "code",
      "metadata": {
        "id": "vS5_b5rg7C-x",
        "colab_type": "code",
        "colab": {}
      },
      "source": [
        "print(train_lines[7])\n"
      ],
      "execution_count": 0,
      "outputs": []
    },
    {
      "cell_type": "code",
      "metadata": {
        "id": "HvLRNnWu282Z",
        "colab_type": "code",
        "colab": {}
      },
      "source": [
        "max_features = 8192\n",
        "maxlen = 128\n",
        "embed_size = 64"
      ],
      "execution_count": 0,
      "outputs": []
    },
    {
      "cell_type": "code",
      "metadata": {
        "id": "VBZtnmcf29AK",
        "colab_type": "code",
        "colab": {}
      },
      "source": [
        "X_train,X_test,y_train,y_test=train_test_split(reviews_train,y_train,train_size=0.80,test_size=0.20,random_state=43)"
      ],
      "execution_count": 0,
      "outputs": []
    },
    {
      "cell_type": "code",
      "metadata": {
        "id": "arso2_eo29Ho",
        "colab_type": "code",
        "colab": {}
      },
      "source": [
        "tokenizer = Tokenizer(num_words=max_features)\n",
        "tokenizer.fit_on_texts(X_train)\n",
        "print(\"tokenizing done!!\")\n",
        "token_train = tokenizer.texts_to_sequences(X_train)\n",
        "print(\"sequencing done!\")\n",
        "X_train = pad_sequences(token_train, maxlen=maxlen)\n",
        "print(\"padding done!!\")\n",
        "\n",
        "\n",
        "tokenizer = Tokenizer(num_words=max_features)\n",
        "tokenizer.fit_on_texts(X_test)\n",
        "print(\"tokenizing test data done!!\")\n",
        "token_train = tokenizer.texts_to_sequences(X_test)\n",
        "print(\"sequencing done!\")\n",
        "X_test = pad_sequences(token_train, maxlen=maxlen)\n",
        "print(\"padding  test data done!!\")\n",
        "X_train[0]\n",
        "\n"
      ],
      "execution_count": 0,
      "outputs": []
    },
    {
      "cell_type": "code",
      "metadata": {
        "id": "yHWEllpA3Lz-",
        "colab_type": "code",
        "colab": {}
      },
      "source": [
        "\n",
        "def createLSTM():\n",
        "    model=Sequential()\n",
        "    model.add(Embedding(max_features,embed_size))\n",
        "    model.add(LSTM(256,return_sequences=True))\n",
        "    model.add(LSTM(512))\n",
        "    model.add(Dense(500,activation='relu'))\n",
        "    model.add(Dropout(0.2))\n",
        "    model.add(Dense(100,activation='relu'))\n",
        "    model.add(Dropout(0.2))\n",
        "    model.add(Dense(2,activation='sigmoid'))\n",
        "    return model"
      ],
      "execution_count": 0,
      "outputs": []
    },
    {
      "cell_type": "code",
      "metadata": {
        "id": "Q2iNAxyG3N44",
        "colab_type": "code",
        "colab": {}
      },
      "source": [
        "model=createLSTM()\n",
        "model.summary()"
      ],
      "execution_count": 0,
      "outputs": []
    },
    {
      "cell_type": "code",
      "metadata": {
        "id": "9KNxoY0g3N_i",
        "colab_type": "code",
        "colab": {}
      },
      "source": [
        ""
      ],
      "execution_count": 0,
      "outputs": []
    },
    {
      "cell_type": "code",
      "metadata": {
        "id": "qIgfGmof3ODJ",
        "colab_type": "code",
        "colab": {}
      },
      "source": [
        "np.shape(X_train),np.shape(y_train)"
      ],
      "execution_count": 0,
      "outputs": []
    },
    {
      "cell_type": "code",
      "metadata": {
        "id": "zEjzwOmd3SSr",
        "colab_type": "code",
        "colab": {}
      },
      "source": [
        "model.compile(loss='binary_crossentropy',optimizer='adam',metrics=['acc'])\n",
        "weight_path=\"early_weights.hdf5\"\n",
        "checkpoint = ModelCheckpoint(weight_path, monitor='val_loss', verbose=1, save_best_only=True, mode='min')\n",
        "early_stopping=EarlyStopping(patience=3,monitor='val_loss',mode=\"min\",verbose=1)\n",
        "callbackslist = [checkpoint, early_stopping]\n",
        "model.fit(X_train,y_train,batch_size=1024,epochs=20, shuffle = True, validation_split=0.20,verbose=1,callbacks=callbackslist)"
      ],
      "execution_count": 0,
      "outputs": []
    },
    {
      "cell_type": "code",
      "metadata": {
        "id": "K9Jz0OoJ3Sjy",
        "colab_type": "code",
        "colab": {}
      },
      "source": [
        "model.evaluate(X_test,y_test,batch_size=1024)"
      ],
      "execution_count": 0,
      "outputs": []
    },
    {
      "cell_type": "code",
      "metadata": {
        "id": "L_spAfRZ3Z_K",
        "colab_type": "code",
        "colab": {}
      },
      "source": [
        "\n",
        "test=[\"it is the right choice\"]\n",
        "print(test)\n",
        "print('RESULT:')\n",
        "pred=model.predict(pad_sequences(tokenizer.texts_to_sequences(test),maxlen=maxlen))\n",
        "print(pred)"
      ],
      "execution_count": 0,
      "outputs": []
    },
    {
      "cell_type": "code",
      "metadata": {
        "id": "77FrKEyF3bwM",
        "colab_type": "code",
        "colab": {}
      },
      "source": [
        ""
      ],
      "execution_count": 0,
      "outputs": []
    },
    {
      "cell_type": "code",
      "metadata": {
        "id": "Eq_rVJIF3cY7",
        "colab_type": "code",
        "colab": {}
      },
      "source": [
        ""
      ],
      "execution_count": 0,
      "outputs": []
    },
    {
      "cell_type": "code",
      "metadata": {
        "id": "_AMllTMmEVEj",
        "colab_type": "code",
        "colab": {}
      },
      "source": [
        "\n"
      ],
      "execution_count": 0,
      "outputs": []
    },
    {
      "cell_type": "code",
      "metadata": {
        "id": "tCi83XfKEq3f",
        "colab_type": "code",
        "colab": {}
      },
      "source": [
        ""
      ],
      "execution_count": 0,
      "outputs": []
    },
    {
      "cell_type": "code",
      "metadata": {
        "id": "GwKFbzpTG8GF",
        "colab_type": "code",
        "colab": {}
      },
      "source": [
        ""
      ],
      "execution_count": 0,
      "outputs": []
    }
  ]
}